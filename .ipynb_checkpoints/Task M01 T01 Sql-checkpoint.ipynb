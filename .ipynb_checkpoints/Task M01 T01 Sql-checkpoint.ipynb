{
 "cells": [
  {
   "cell_type": "markdown",
   "id": "481fcfa4",
   "metadata": {},
   "source": [
    "# Exercises - Data Science Sprint 01 - M1 T01\n",
    "   **Relational databases (SQL)**\n",
    "\n",
    "These are the objectives of this Sprint:\n",
    "* Construct entity-relationship and relational diagrams\n",
    "* Construct a relational database with MySQL\n",
    "* Perform simple queries\n",
    "* Performs operations on the MySQL database"
   ]
  },
  {
   "cell_type": "markdown",
   "id": "245a5293",
   "metadata": {},
   "source": [
    "## Exercise #1\n",
    "\n",
    "**Creation of database**\n",
    "\n",
    "From the attached documents (structure and data), create a database with MySQL. Show the main features of the created schema and explains the different tables and variables in it.\n"
   ]
  },
  {
   "cell_type": "markdown",
   "id": "e3aebd86",
   "metadata": {},
   "source": [
    "### Database creation\n",
    "\n",
    "In this sprint I'm going to use the Python Connector to MySQL database"
   ]
  },
  {
   "cell_type": "code",
   "execution_count": 1,
   "id": "edaa18fd",
   "metadata": {
    "ExecuteTime": {
     "end_time": "2022-07-28T05:48:04.720953Z",
     "start_time": "2022-07-28T05:48:04.344756Z"
    }
   },
   "outputs": [],
   "source": [
    "# Import MySQL connector \n",
    "import mysql.connector\n",
    "from mysql.connector import errorcode\n",
    "\n",
    "# Establish connection to server with host, username and password\n",
    "mydb = mysql.connector.connect(\n",
    "    host = 'localhost',\n",
    "    user='root',\n",
    "    password=\"pass1234\"\n",
    ")\n",
    "\n",
    "# Instantiates objects that can execute SQL statements\n",
    "mycursor = mydb.cursor()\n",
    "\n",
    "# Creation of database\n",
    "mycursor.execute(\"CREATE DATABASE SGAE_Practica;\")\n",
    "\n",
    "# Create the SCHEMA movies\n",
    "mycursor.execute(\"CREATE SCHEMA movies;\")\n",
    "\n",
    "mycursor.close()\n",
    "mydb.close()"
   ]
  },
  {
   "cell_type": "markdown",
   "id": "46cda551",
   "metadata": {},
   "source": [
    "### Structure creation - Tables\n",
    "\n",
    "In order to analyze our data structure, we can follow these steps:\n",
    "\n",
    "1. Find Entities\n",
    "  On our data structure we can find 4 entities:\n",
    "    - genre\n",
    "    - movie\n",
    "    - role \n",
    "    - person\n",
    "\n",
    " \n",
    " 2. Find our their relations\n",
    "    - In our case we have a\"awarded\" relation between movie-role-person tables\n",
    "        - This is a relation N:M:P, and we have to create a new relation table, named movie_person (+role)\n",
    "    - Movie have a relation \"genre of\" with genre table\n",
    "        - This is a relation 1:N, because different movies can have the same role\n",
    "    - Person has a \"parent\" self-relation with person table\n",
    "        - This is a relation 1:N with the same table, because same person can have more that one parent awarded\n",
    " \n",
    " \n",
    " 3. The table attributes\n",
    " \n",
    "     Genre:\n",
    "        - genre_name\n",
    "        - created by user\n",
    "        - created_date\n",
    "        - updated_date\n",
    "        \n",
    "     Role:\n",
    "        - role_name\n",
    "        - created by user\n",
    "        - created_date\n",
    "        - updated_date\n",
    "\n",
    "    Person:\n",
    "        - person_name\n",
    "        - person_country\n",
    "        - person_dob\n",
    "        - person_dod\n",
    "        - person_parent\n",
    "        - created by user\n",
    "        - created_date\n",
    "        - updated_date\n",
    "        \n",
    "    Movie:\n",
    "        - movie_title\n",
    "        - movie_date\n",
    "        - movie_format\n",
    "        - created by user\n",
    "        - created_date\n",
    "        - updated_date\n",
    "\n",
    "    Movie_Person:\n",
    "        - movie_award_ind\n",
    "        - created by user\n",
    "        - created_date\n",
    "        - updated_date\n",
    "\n",
    "4. Definition of Primary Keys (pk) and Foreign Keys (fk)\n",
    "\n",
    "    Genre:\n",
    "        - genre_id (pk)\n",
    " \n",
    "    Role:\n",
    "        - role_id (pk)\n",
    " \n",
    "    Person:\n",
    "        - person_id (pk)\n",
    "        - person_parent_id (fk) -> Self-Relation to person_id (pk)\n",
    "        \n",
    "    Movie:\n",
    "        - movie_id (pk)\n",
    "        - movie_genre_id (fk) - > Relation to genre_id\n",
    "\n",
    "    Movie_Person:\n",
    "        - movie_id + person_id + role_id (pk) -> Relation to:\n",
    "            - movie_id (fk)\n",
    "            - person_id (fk)\n",
    "            - role_id (fk)\n",
    " "
   ]
  },
  {
   "cell_type": "code",
   "execution_count": 2,
   "id": "887a1a96",
   "metadata": {
    "ExecuteTime": {
     "end_time": "2022-07-28T05:49:51.399258Z",
     "start_time": "2022-07-28T05:49:51.291770Z"
    },
    "code_folding": []
   },
   "outputs": [
    {
     "name": "stdout",
     "output_type": "stream",
     "text": [
      "Creating table movies.tb_genre: OK\n",
      "Creating table movies.tb_movie: OK\n",
      "Creating table movies.tb_role: OK\n",
      "Creating table movies.tb_person: OK\n",
      "Creating table movies.tb_movie_person: OK\n"
     ]
    }
   ],
   "source": [
    "# Establish connection to server with host, username and password\n",
    "mydb = mysql.connector.connect(\n",
    "    host = 'localhost',\n",
    "    user='root',\n",
    "    password=\"pass1234\",\n",
    "    database = \"movies\"\n",
    ")\n",
    "\n",
    "# Instantiates objects that can execute SQL statements\n",
    "mycursor = mydb.cursor()\n",
    "\n",
    "TABLES = {}\n",
    "TABLES ['movies.tb_genre'] = (\n",
    "    \"CREATE TABLE movies.tb_genre (\"\n",
    "    \"genre_id         INTEGER NOT NULL ,\"\n",
    "    \"genre_name       CHARACTER VARYING(40) NOT NULL ,\"\n",
    "    \"created_by_user  CHARACTER VARYING(10) NOT NULL DEFAULT 'OS_SGAD' ,\"\n",
    "    \"created_date     DATE ,\"\n",
    "    \"updated_date     DATE ,\"\n",
    "    \"CONSTRAINT pk_genre PRIMARY KEY (genre_id));\"\n",
    "    )\n",
    "\n",
    "TABLES ['movies.tb_movie'] = (\n",
    "    \"CREATE TABLE movies.tb_movie (\"\n",
    "    \"movie_id         INTEGER NOT NULL ,\"\n",
    "    \"movie_title      CHARACTER VARYING(100) NOT NULL ,\"\n",
    "    \"movie_date       DATE ,\"\n",
    "    \"movie_format     CHARACTER VARYING(50) ,\"\n",
    "    \"movie_genre_id   INTEGER ,\"\n",
    "    \"created_by_user  CHARACTER VARYING(10) NOT NULL DEFAULT 'OS_SGAD' ,\"\n",
    "    \"created_date     DATE ,\"\n",
    "    \"updated_date     DATE ,\"\n",
    "    \"CONSTRAINT pk_movie PRIMARY KEY (movie_id) ,\"\n",
    "    \"CONSTRAINT fk_movie_genre FOREIGN KEY (movie_genre_id) REFERENCES movies.tb_genre (genre_id));\"\n",
    "    )\n",
    "\n",
    "TABLES ['movies.tb_role'] = (\n",
    "    \"CREATE TABLE movies.tb_role (\"\n",
    "    \"role_id          INTEGER NOT NULL ,\"\n",
    "    \"role_name        CHARACTER VARYING(60) NOT NULL ,\"\n",
    "    \"created_by_user  CHARACTER VARYING(10) NOT NULL DEFAULT 'OS_SGAD' ,\"\n",
    "    \"created_date     DATE ,\"\n",
    "    \"updated_date     DATE ,\"\n",
    "    \"CONSTRAINT pk_role PRIMARY KEY (role_id));\"\n",
    "     )\n",
    "\n",
    "TABLES ['movies.tb_person'] = (\n",
    "    \"CREATE TABLE movies.tb_person(person_id INTEGER NOT NULL ,\"\n",
    "    \"person_name      CHARACTER VARYING(100) NOT NULL,\"\n",
    "    \"person_country   CHARACTER VARYING(40) , \"\n",
    "    \"person_dob       DATE NOT NULL ,\"\n",
    "    \"person_dod       DATE ,\"\n",
    "    \"person_parent_id INTEGER ,\"\n",
    "    \"created_by_user  CHARACTER VARYING(10) NOT NULL DEFAULT 'OS_SGAD' ,\"\n",
    "    \"created_date     DATE ,\"\n",
    "    \"updated_date     DATE ,\"\n",
    "    \"CONSTRAINT pk_person PRIMARY KEY (person_id) ,\"\n",
    "    \"CONSTRAINT fk_person_parent FOREIGN KEY (person_parent_id) REFERENCES movies.tb_person (person_id));\"\n",
    "    )\n",
    "\n",
    "TABLES ['movies.tb_movie_person'] = (\n",
    "    \"CREATE TABLE movies.tb_movie_person (\"\n",
    "    \"movie_id         INTEGER NOT NULL ,\"\n",
    "    \"person_id        INTEGER NOT NULL ,\"\n",
    "    \"role_id          INTEGER NOT NULL ,\"\n",
    "    \"movie_award_ind  CHAR(1) NOT NULL ,\"\n",
    "    \"created_by_user  CHARACTER VARYING(10) NOT NULL DEFAULT 'OS_SGAD' ,\"\n",
    "    \"created_date     DATE ,\"\n",
    "    \"updated_date     DATE ,\"\n",
    "    \"CONSTRAINT pk_movper PRIMARY KEY (movie_id, person_id, role_id) ,\"\n",
    "    \"CONSTRAINT fk_movper_movie FOREIGN KEY (movie_id) REFERENCES movies.tb_movie (movie_id) ,\"\n",
    "    \"CONSTRAINT fk_movper_person FOREIGN KEY (person_id) REFERENCES movies.tb_person (person_id) ,\"\n",
    "    \"CONSTRAINT fk_movper_role FOREIGN KEY (role_id) REFERENCES movies.tb_role (role_id));\"\n",
    "    )\n",
    "\n",
    "for table_name in TABLES:\n",
    "    table_description = TABLES[table_name]\n",
    "    try:\n",
    "        print(\"Creating table {}: \".format(table_name), end='')\n",
    "        mycursor.execute(table_description)\n",
    "    except mysql.connector.Error as err:\n",
    "        if err.errno == errorcode.ER_TABLE_EXISTS_ERROR:\n",
    "            print(\"already exists.\")\n",
    "        else:\n",
    "            print(err.msg)\n",
    "    else:\n",
    "        print(\"OK\")\n",
    "\n",
    "mycursor.close()\n",
    "mydb.close()"
   ]
  },
  {
   "cell_type": "markdown",
   "id": "cb18f232",
   "metadata": {},
   "source": [
    "### Insert data to tb_genre table\n"
   ]
  },
  {
   "cell_type": "code",
   "execution_count": 3,
   "id": "a878d6f8",
   "metadata": {
    "ExecuteTime": {
     "end_time": "2022-07-28T05:50:04.756254Z",
     "start_time": "2022-07-28T05:50:04.721337Z"
    }
   },
   "outputs": [
    {
     "name": "stdout",
     "output_type": "stream",
     "text": [
      "Number of rows affected by statement 'INSERT INTO movies.tb_genre (genre_id, genre_name) VALUES ( 1, 'Acción')': 1\n",
      "Number of rows affected by statement 'INSERT INTO movies.tb_genre (genre_id, genre_name) VALUES ( 2, 'Ciencia Ficción')': 1\n",
      "Number of rows affected by statement 'INSERT INTO movies.tb_genre (genre_id, genre_name) VALUES ( 3, 'Comedia')': 1\n",
      "Number of rows affected by statement 'INSERT INTO movies.tb_genre (genre_id, genre_name) VALUES ( 4, 'Drama')': 1\n",
      "Number of rows affected by statement 'INSERT INTO movies.tb_genre (genre_id, genre_name, created_by_user) VALUES ( 5, 'Fantasía', 'apermag')': 1\n",
      "Number of rows affected by statement 'INSERT INTO movies.tb_genre (genre_id, genre_name, created_by_user, created_date, updated_date) VALUES ( 6, 'Melodrama', 'apermag', '2018-09-01', '2018-09-27')': 1\n",
      "Number of rows affected by statement 'INSERT INTO movies.tb_genre (genre_id, genre_name) VALUES ( 7, 'Musical')': 1\n",
      "Number of rows affected by statement 'INSERT INTO movies.tb_genre (genre_id, genre_name) VALUES ( 8, 'Romance')': 1\n",
      "Number of rows affected by statement 'INSERT INTO movies.tb_genre (genre_id, genre_name) VALUES ( 9, 'Suspense')': 1\n",
      "Number of rows affected by statement 'INSERT INTO movies.tb_genre (genre_id, genre_name) VALUES (10, 'Terror')': 1\n",
      "Number of rows affected by statement 'INSERT INTO movies.tb_genre (genre_id, genre_name) VALUES (11, 'Bélico')': 1\n"
     ]
    }
   ],
   "source": [
    "# Establish connection to server with host, username and password\n",
    "mydb = mysql.connector.connect(\n",
    "    host = 'localhost',\n",
    "    user='root',\n",
    "    password=\"pass1234\",\n",
    "    database = \"movies\"\n",
    "    )\n",
    "\n",
    "# Instantiates objects that can execute SQL statements\n",
    "mycursor = mydb.cursor()\n",
    "\n",
    "operation = \"INSERT INTO movies.tb_genre (genre_id, genre_name) VALUES ( 1, 'Acción'); \\\n",
    "             INSERT INTO movies.tb_genre (genre_id, genre_name) VALUES ( 2, 'Ciencia Ficción'); \\\n",
    "             INSERT INTO movies.tb_genre (genre_id, genre_name) VALUES ( 3, 'Comedia'); \\\n",
    "             INSERT INTO movies.tb_genre (genre_id, genre_name) VALUES ( 4, 'Drama'); \\\n",
    "             INSERT INTO movies.tb_genre (genre_id, genre_name, created_by_user) VALUES ( 5, 'Fantasía', 'apermag'); \\\n",
    "             INSERT INTO movies.tb_genre (genre_id, genre_name, created_by_user, created_date, updated_date) VALUES ( 6, 'Melodrama', 'apermag', '2018-09-01', '2018-09-27'); \\\n",
    "             INSERT INTO movies.tb_genre (genre_id, genre_name) VALUES ( 7, 'Musical'); \\\n",
    "             INSERT INTO movies.tb_genre (genre_id, genre_name) VALUES ( 8, 'Romance'); \\\n",
    "             INSERT INTO movies.tb_genre (genre_id, genre_name) VALUES ( 9, 'Suspense'); \\\n",
    "             INSERT INTO movies.tb_genre (genre_id, genre_name) VALUES (10, 'Terror'); \\\n",
    "             INSERT INTO movies.tb_genre (genre_id, genre_name) VALUES (11, 'Bélico'); \"\n",
    "\n",
    "for result in mycursor.execute(operation, multi=True):\n",
    "  if result.with_rows:\n",
    "    print(\"Rows produced by statement '{}':\".format(result.statement))\n",
    "    print(result.fetchall())\n",
    "  else:\n",
    "    print(\"Number of rows affected by statement '{}': {}\".format(result.statement, result.rowcount))\n",
    "\n",
    "\n",
    "mydb.commit()\n",
    "\n",
    "mycursor.close()\n",
    "mydb.close()\n",
    "\n",
    "\n",
    "#result = mycursor.fetchall()\n",
    "#for all in result:\n",
    "#  print(all)"
   ]
  },
  {
   "cell_type": "markdown",
   "id": "d2370c18",
   "metadata": {},
   "source": [
    "### Insert data to tb_movie table\n"
   ]
  },
  {
   "cell_type": "code",
   "execution_count": 4,
   "id": "7f688983",
   "metadata": {
    "ExecuteTime": {
     "end_time": "2022-07-28T05:50:10.725776Z",
     "start_time": "2022-07-28T05:50:10.700806Z"
    }
   },
   "outputs": [],
   "source": [
    "# Establish connection to server with host, username and password\n",
    "mydb = mysql.connector.connect(\n",
    "    host = 'localhost',\n",
    "    user='root',\n",
    "    password=\"pass1234\",\n",
    "    database = \"movies\"\n",
    "    )\n",
    "\n",
    "# Instantiates objects that can execute SQL statements\n",
    "mycursor = mydb.cursor()\n",
    "\n",
    "sql = \"INSERT INTO movies.tb_movie (movie_id, movie_title, movie_date, movie_format, movie_genre_id) \\\n",
    "       VALUES (%s, %s, %s, %s, %s);\"\n",
    "data = [( 1, 'Apocalypse Now', '1979-05-10', 'Film', 11),\n",
    "        ( 2, 'Star Wars:Episode IV - A New Hope', '1977-05-25', 'Film', 2),\n",
    "        ( 3, 'Indiana Jones and the Temple of Doom', '1984-05-08', 'Film', 1),\n",
    "        ( 4, 'The Terminal', '2004-06-18', 'Digital', 3),\n",
    "        ( 5, 'Jaws', '1975-01-01', 'Film', 10),\n",
    "        ( 6, 'ET The Extraterrestrial', '1982-07-25', 'Film', 5),\n",
    "        ( 7, 'Psycho', '1960-05-06', 'Film', 9),\n",
    "        ( 8, 'Ocho Apellidos Vascos', '2014-03-14', 'Digital', 3),\n",
    "        ( 9, 'Ocho Apellidos Catalanes', '2016-06-09', 'Digital', 8),\n",
    "        (10, 'El otro lado de la cama', '2002-09-04', 'Digital', 8),\n",
    "        (11, 'La Gran Familia Española', '2012-10-15', 'Digital', 3),\n",
    "        (12, 'El dia de la bestia', '1994-12-25', 'Film', 1),\n",
    "        (13, 'Braveheart', '1995-08-08', 'Film', 4),\n",
    "        (14, 'The Shawshank Redemption', '1992-01-07', 'Film', 4),\n",
    "        (15, 'Las brujas de Zugarramurdi', '2009-10-07', 'Digital', 9),\n",
    "        (16, 'Blade Runner', '1982-12-25', 'Digital', 2)]\n",
    "\n",
    "\n",
    "mycursor.executemany(sql, data)\n",
    "\n",
    "mydb.commit()\n",
    "\n",
    "mycursor.close()\n",
    "mydb.close()"
   ]
  },
  {
   "cell_type": "markdown",
   "id": "697551c4",
   "metadata": {},
   "source": [
    "### Insert data to tb_role table\n"
   ]
  },
  {
   "cell_type": "code",
   "execution_count": 5,
   "id": "dd8447d6",
   "metadata": {
    "ExecuteTime": {
     "end_time": "2022-07-28T05:50:19.031482Z",
     "start_time": "2022-07-28T05:50:19.008449Z"
    }
   },
   "outputs": [],
   "source": [
    "# Establish connection to server with host, username and password\n",
    "mydb = mysql.connector.connect(\n",
    "    host = 'localhost',\n",
    "    user='root',\n",
    "    password=\"pass1234\",\n",
    "    database = \"movies\"\n",
    "    )\n",
    "\n",
    "# Instantiates objects that can execute SQL statements\n",
    "mycursor = mydb.cursor()\n",
    "\n",
    "sql = \"INSERT INTO movies.tb_role (role_id, role_name) VALUES (%s, %s);\"\n",
    "\n",
    "data = [( 1, 'Actor'),\n",
    "        ( 2, 'Director'),\n",
    "        ( 3, 'Productor'),\n",
    "        ( 4, 'Guionista'),\n",
    "        ( 5, 'Música')]\n",
    "\n",
    "mycursor.executemany(sql, data)\n",
    "\n",
    "mydb.commit()\n",
    "\n",
    "mycursor.close()\n",
    "mydb.close()"
   ]
  },
  {
   "cell_type": "markdown",
   "id": "47c51090",
   "metadata": {},
   "source": [
    "### Insert data to tb_person table\n"
   ]
  },
  {
   "cell_type": "code",
   "execution_count": 6,
   "id": "484bc215",
   "metadata": {
    "ExecuteTime": {
     "end_time": "2022-07-28T05:50:28.007331Z",
     "start_time": "2022-07-28T05:50:27.973351Z"
    }
   },
   "outputs": [],
   "source": [
    "# Establish connection to server with host, username and password\n",
    "mydb = mysql.connector.connect(\n",
    "    host = 'localhost',\n",
    "    user='root',\n",
    "    password=\"pass1234\",\n",
    "    database = \"movies\"\n",
    "    )\n",
    "\n",
    "# Instantiates objects that can execute SQL statements\n",
    "mycursor = mydb.cursor()\n",
    "\n",
    "sql = \"INSERT INTO movies.tb_person (person_id, person_name, person_country, person_dob, person_dod, person_parent_id) \\\n",
    "       VALUES (%s, %s, %s, %s, %s, %s);\"\n",
    "\n",
    "data = [( 1, 'Francis Ford Coppola', 'United States', '1939-04-07',None, None),\n",
    "        ( 2, 'Carmine Coppola', 'United States', '1945-07-08', None, None),\n",
    "        ( 3, 'Marlon Brando', 'United States', '1924-04-03', '2004-07-01', None),\n",
    "        ( 4, 'Robert Duvall', 'United States', '1931-01-05', None, None),\n",
    "        ( 5, 'Martin Sheen', 'United States', '1940-08-03', None, None),\n",
    "        ( 6, 'Harrison Ford', 'United States', '1942-07-13', None, None),\n",
    "        ( 7, 'George Lucas', 'United States', '1944-05-14', None, None),\n",
    "        ( 8, 'Gary Kurtz', 'United States', '1940-07-27', None, None),\n",
    "        ( 9, 'Steven Spielberg', 'United States', '1946-12-18', None, None),\n",
    "        (10, 'John Williams', 'United States', '1928-08-08', None, None),\n",
    "        (11, 'Tom Hanks', 'United States', '1956-07-09', None, None),\n",
    "        (12, 'Catherine Zeta-Jones', 'Wales', '1969-09-25', None, None),\n",
    "        (13, 'Alfred Joseph Hitchcock', 'United Kingdom', '1899-08-13', '1980-04-29', None),\n",
    "        (14, 'Anthony Perkins', 'United States', '1934-04-04', '1992-09-08', None),\n",
    "        (15, 'Vera Miles', 'United States', '1929-08-23', None, None),\n",
    "        (16, 'Emilio Martinez Lazaro', 'Spain', '1956-09-09', None, None),\n",
    "        (17, 'Dani Rovira', 'Spain', '1984-07-01', None, None),\n",
    "        (18, 'Clara Lago', 'Spain', '1986-04-17', None, None),\n",
    "        (19, 'Carmen Machi', 'Spain', '1964-08-09', None, None),\n",
    "        (20, 'Karra Elejalde', 'Spain', '1960-03-06', None, None),\n",
    "        (21, 'Daniel Sanchez Arevalo', 'Spain', '1970-06-08', None, None),\n",
    "        (22, 'Quim Gutierrez', 'Spain', '1981-03-27', None, None),\n",
    "        (23, 'Robert Alamo', 'Spain', '1970-05-06', None, None),\n",
    "        (24, 'Hector Colome', 'Spain', '1944-10-25', '2015-02-28', None),\n",
    "        (25, 'Veronica Echegui', 'Spain', '1983-03-14', None, None),\n",
    "        (26, 'Patrick Criado', 'Spain', '1995-09-23', None, None),\n",
    "        (27, 'Sean Connery', 'Scotland', '1930-07-08', None, None),\n",
    "        (28, 'Mel Gibson', 'Australia', '1950-08-09', None, None),\n",
    "        (29, 'Morgan Freeman', 'United States', '1935-10-01', None, None),\n",
    "        (30, 'Tim Robbins', 'United States', '1949-06-07', None, None),\n",
    "        (41, 'Charlie Sheen', 'United States', '1965-09-03', None, 5),\n",
    "        (42, 'Emilio Estevez', 'United States', '1962-05-12', None, 5),\n",
    "        (43, 'Ramón Estevez', 'United States', '1963-08-07', None, 5),\n",
    "        (44, 'Reneé Estevez', 'United States', '1967-04-02', None, 5),\n",
    "        (45, 'Paula Speert Sheen', 'United States', '1986-01-06', None,41),\n",
    "        (46, 'Bob Sheen', 'United States', '2009-05-01', None,41),\n",
    "        (47, 'Max Sheen', 'United States', '2009-05-01', None,41),\n",
    "        (48, 'Sam Sheen', 'United States', '2004-03-09', None,41),\n",
    "        (49, 'Lola Sheen', 'United States', '2005-06-01', None,41),\n",
    "        (50, 'Paula Jones-Sheen', 'United States', '2003-07-06', None,45),\n",
    "        (51, 'Paloma Rae Estevez', 'United States', '1986-02-15', None,42),\n",
    "        (52, 'Taylor Levi Estevez', 'United States', '1984-06-22', None,42)]\n",
    "\n",
    "mycursor.executemany(sql, data)\n",
    "\n",
    "mydb.commit()\n",
    "\n",
    "mycursor.close()\n",
    "mydb.close()\n"
   ]
  },
  {
   "cell_type": "markdown",
   "id": "73677fe1",
   "metadata": {},
   "source": [
    "### Insert data to tb_movie_person table\n"
   ]
  },
  {
   "cell_type": "code",
   "execution_count": 7,
   "id": "97eed7b6",
   "metadata": {
    "ExecuteTime": {
     "end_time": "2022-07-28T05:50:32.482783Z",
     "start_time": "2022-07-28T05:50:32.461847Z"
    }
   },
   "outputs": [],
   "source": [
    "# Establish connection to server with host, username and password\n",
    "mydb = mysql.connector.connect(\n",
    "    host = 'localhost',\n",
    "    user='root',\n",
    "    password=\"pass1234\",\n",
    "    database = \"movies\"\n",
    "    )\n",
    "\n",
    "# Instantiates objects that can execute SQL statements\n",
    "mycursor = mydb.cursor()\n",
    "\n",
    "sql = \"INSERT INTO movies.tb_movie_person (movie_id, person_id, role_id, movie_award_ind) VALUES (%s, %s, %s, %s);\"\n",
    "\n",
    "data = [( 1, 1, 2, 'Y'),\n",
    "        ( 1, 1, 3, 'N'),\n",
    "        ( 1, 1, 5, 'N'),\n",
    "        ( 1, 2, 5, 'N'),\n",
    "        ( 1, 3, 1, 'N'),\n",
    "        ( 1, 4, 1, 'N'),\n",
    "        ( 1, 5, 1, 'Y'),\n",
    "        ( 1,41, 1, 'N'),\n",
    "        ( 1, 6, 1, 'N'),\n",
    "        ( 2, 6, 1, 'N'),\n",
    "        ( 2, 7, 2, 'Y'),\n",
    "        ( 2, 8, 3, 'N'),\n",
    "        ( 3, 6, 1, 'N'),\n",
    "        ( 3, 7, 4, 'N'),\n",
    "        ( 3, 9, 2, 'N'),\n",
    "        ( 3,10, 5, 'N'),\n",
    "        ( 4, 9, 2, 'N'),\n",
    "        ( 4, 9, 3, 'N'),\n",
    "        ( 4,11, 1, 'N'),\n",
    "        ( 4,12, 1, 'N'),\n",
    "        ( 5, 9, 2, 'N'),\n",
    "        ( 6, 9, 2, 'N'),\n",
    "        ( 7,13, 1, 'N'),\n",
    "        ( 7,13, 2, 'N'),\n",
    "        ( 7,13, 3, 'N'),\n",
    "        ( 7,14, 2, 'N'),\n",
    "        ( 7,15, 2, 'N'),\n",
    "        ( 3, 7, 1, 'N'),\n",
    "        ( 8,16, 2, 'N'),\n",
    "        ( 9,16, 2, 'N'),\n",
    "        ( 8,17, 1, 'N'),\n",
    "        ( 8,18, 1, 'N'),\n",
    "        ( 8,19, 1, 'N'),\n",
    "        ( 8,20, 1, 'N'),\n",
    "        ( 9,17, 1, 'N'),\n",
    "        ( 9,18, 1, 'N'),\n",
    "        ( 9,19, 1, 'N'),\n",
    "        ( 9,20, 1, 'N'),\n",
    "        (10,16, 2, 'N'),\n",
    "        (11,21, 2, 'N'),\n",
    "        (11,21, 4, 'N'),\n",
    "        (11,22, 1, 'N'),\n",
    "        (11,23, 1, 'N'),\n",
    "        (11,24, 1, 'N'),\n",
    "        (11,25, 1, 'N'),\n",
    "        (11,26, 1, 'N'),\n",
    "        (13,28, 1, 'Y'),\n",
    "        (13,28, 2, 'N'),\n",
    "        (14,29, 1, 'N'),\n",
    "        (14,30, 1, 'N')]\n",
    "\n",
    "mycursor.executemany(sql, data)\n",
    "\n",
    "mydb.commit()\n",
    "\n",
    "mycursor.close()\n",
    "mydb.close()"
   ]
  },
  {
   "cell_type": "markdown",
   "id": "3ae40e65",
   "metadata": {},
   "source": [
    "### Function definition to execute sql statements \n"
   ]
  },
  {
   "cell_type": "code",
   "execution_count": 8,
   "id": "12e2b1bc",
   "metadata": {
    "ExecuteTime": {
     "end_time": "2022-07-28T05:50:36.207282Z",
     "start_time": "2022-07-28T05:50:36.192343Z"
    }
   },
   "outputs": [],
   "source": [
    "# This funcion receives 2 parametres, the first one is the sql statement\n",
    "# The second one is a boolean value, True means that we have to execute commit because database has been altered and\n",
    "# must be update.\n",
    "\n",
    "def sql_function(sql, commit_yn):\n",
    "# Establish connection to server with host, username and password\n",
    "    mydb = mysql.connector.connect(\n",
    "        host = 'localhost',\n",
    "        user='root',\n",
    "        password=\"pass1234\",\n",
    "        database = \"movies\"\n",
    "        )\n",
    "\n",
    "    # Instantiates objects that can execute SQL statements\n",
    "    mycursor = mydb.cursor()\n",
    "\n",
    "    mycursor.execute(sql)\n",
    "    \n",
    "    if (commit_yn):\n",
    "        mydb.commit()\n",
    "    else:\n",
    "        myresult = mycursor.fetchall()\n",
    "        for x in myresult:\n",
    "            print(x)\n",
    "\n",
    "    mycursor.close()\n",
    "\n",
    "    mydb.close()"
   ]
  },
  {
   "cell_type": "markdown",
   "id": "e8b9366f",
   "metadata": {},
   "source": [
    "## Exercise #2\n",
    "\n",
    "**Perform query**\n",
    "\n",
    "Obtain the name, country and date of birth of those persons for whom there is no date of death, and order the data from the oldest person to the youngest person."
   ]
  },
  {
   "cell_type": "code",
   "execution_count": 9,
   "id": "89824a8c",
   "metadata": {
    "ExecuteTime": {
     "end_time": "2022-07-28T05:50:44.994355Z",
     "start_time": "2022-07-28T05:50:44.981394Z"
    }
   },
   "outputs": [
    {
     "name": "stdout",
     "output_type": "stream",
     "text": [
      "('John Williams', 'United States', datetime.date(1928, 8, 8))\n",
      "('Vera Miles', 'United States', datetime.date(1929, 8, 23))\n",
      "('Sean Connery', 'Scotland', datetime.date(1930, 7, 8))\n",
      "('Robert Duvall', 'United States', datetime.date(1931, 1, 5))\n",
      "('Morgan Freeman', 'United States', datetime.date(1935, 10, 1))\n",
      "('Francis Ford Coppola', 'United States', datetime.date(1939, 4, 7))\n",
      "('Gary Kurtz', 'United States', datetime.date(1940, 7, 27))\n",
      "('Martin Sheen', 'United States', datetime.date(1940, 8, 3))\n",
      "('Harrison Ford', 'United States', datetime.date(1942, 7, 13))\n",
      "('George Lucas', 'United States', datetime.date(1944, 5, 14))\n",
      "('Carmine Coppola', 'United States', datetime.date(1945, 7, 8))\n",
      "('Steven Spielberg', 'United States', datetime.date(1946, 12, 18))\n",
      "('Tim Robbins', 'United States', datetime.date(1949, 6, 7))\n",
      "('Mel Gibson', 'Australia', datetime.date(1950, 8, 9))\n",
      "('Tom Hanks', 'United States', datetime.date(1956, 7, 9))\n",
      "('Emilio Martinez Lazaro', 'Spain', datetime.date(1956, 9, 9))\n",
      "('Karra Elejalde', 'Spain', datetime.date(1960, 3, 6))\n",
      "('Emilio Estevez', 'United States', datetime.date(1962, 5, 12))\n",
      "('Ramón Estevez', 'United States', datetime.date(1963, 8, 7))\n",
      "('Carmen Machi', 'Spain', datetime.date(1964, 8, 9))\n",
      "('Charlie Sheen', 'United States', datetime.date(1965, 9, 3))\n",
      "('Reneé Estevez', 'United States', datetime.date(1967, 4, 2))\n",
      "('Catherine Zeta-Jones', 'Wales', datetime.date(1969, 9, 25))\n",
      "('Robert Alamo', 'Spain', datetime.date(1970, 5, 6))\n",
      "('Daniel Sanchez Arevalo', 'Spain', datetime.date(1970, 6, 8))\n",
      "('Quim Gutierrez', 'Spain', datetime.date(1981, 3, 27))\n",
      "('Veronica Echegui', 'Spain', datetime.date(1983, 3, 14))\n",
      "('Taylor Levi Estevez', 'United States', datetime.date(1984, 6, 22))\n",
      "('Dani Rovira', 'Spain', datetime.date(1984, 7, 1))\n",
      "('Paula Speert Sheen', 'United States', datetime.date(1986, 1, 6))\n",
      "('Paloma Rae Estevez', 'United States', datetime.date(1986, 2, 15))\n",
      "('Clara Lago', 'Spain', datetime.date(1986, 4, 17))\n",
      "('Patrick Criado', 'Spain', datetime.date(1995, 9, 23))\n",
      "('Paula Jones-Sheen', 'United States', datetime.date(2003, 7, 6))\n",
      "('Sam Sheen', 'United States', datetime.date(2004, 3, 9))\n",
      "('Lola Sheen', 'United States', datetime.date(2005, 6, 1))\n",
      "('Bob Sheen', 'United States', datetime.date(2009, 5, 1))\n",
      "('Max Sheen', 'United States', datetime.date(2009, 5, 1))\n"
     ]
    }
   ],
   "source": [
    "# Exercise 2\n",
    "# Statement definition\n",
    "sql = \"SELECT person_name, person_country, person_dob FROM tb_person \\\n",
    "       WHERE person_dod is NULL \\\n",
    "       ORDER BY person_dob ASC;\"\n",
    "\n",
    "# Call to function to execute statement and show results\n",
    "sql_function(sql, False)\n"
   ]
  },
  {
   "cell_type": "markdown",
   "id": "5d8e68d1",
   "metadata": {},
   "source": [
    "## Exercise #3\n",
    "\n",
    "**Perform query**\n",
    "\n",
    "Get the genre name and the total number of movies in that genre, and sort it in descending order of total number of movies."
   ]
  },
  {
   "cell_type": "code",
   "execution_count": 10,
   "id": "fbbe43ba",
   "metadata": {
    "ExecuteTime": {
     "end_time": "2022-07-28T05:50:51.369141Z",
     "start_time": "2022-07-28T05:50:51.344490Z"
    }
   },
   "outputs": [
    {
     "name": "stdout",
     "output_type": "stream",
     "text": [
      "(3, 'Comedia')\n",
      "(2, 'Acción')\n",
      "(2, 'Ciencia Ficción')\n",
      "(2, 'Drama')\n",
      "(2, 'Romance')\n",
      "(2, 'Suspense')\n",
      "(1, 'Fantasía')\n",
      "(1, 'Terror')\n",
      "(1, 'Bélico')\n"
     ]
    }
   ],
   "source": [
    "# Exercise 3\n",
    "# Statement definition\n",
    "sql = \"SELECT COUNT(genre_name) AS gn_count, genre_name FROM tb_movie \\\n",
    "       INNER JOIN tb_genre WHERE tb_genre.genre_id = tb_movie.movie_genre_id \\\n",
    "       GROUP BY genre_name \\\n",
    "       ORDER BY gn_count DESC\"\n",
    "\n",
    "# Call to function to execute statement and show results\n",
    "sql_function(sql, False)"
   ]
  },
  {
   "cell_type": "markdown",
   "id": "98925e98",
   "metadata": {},
   "source": [
    "## Exercise #4\n",
    "\n",
    "**Perform queries**"
   ]
  },
  {
   "cell_type": "markdown",
   "id": "d8d7dfad",
   "metadata": {},
   "source": [
    "### Section 1\n",
    "\n",
    "Get, for each person, their name and the maximum number of different roles they have had in the same movie."
   ]
  },
  {
   "cell_type": "code",
   "execution_count": 11,
   "id": "037d5c35",
   "metadata": {
    "ExecuteTime": {
     "end_time": "2022-07-28T05:51:01.834502Z",
     "start_time": "2022-07-28T05:51:01.815563Z"
    }
   },
   "outputs": [
    {
     "name": "stdout",
     "output_type": "stream",
     "text": [
      "(1, 'Marlon Brando', 'Apocalypse Now')\n",
      "(1, 'Robert Duvall', 'Apocalypse Now')\n",
      "(1, 'Martin Sheen', 'Apocalypse Now')\n",
      "(1, 'Harrison Ford', 'Apocalypse Now')\n",
      "(1, 'Charlie Sheen', 'Apocalypse Now')\n",
      "(1, 'Harrison Ford', 'Star Wars:Episode IV - A New Hope')\n",
      "(1, 'Harrison Ford', 'Indiana Jones and the Temple of Doom')\n",
      "(1, 'Carmine Coppola', 'Apocalypse Now')\n",
      "(1, 'Tom Hanks', 'The Terminal')\n",
      "(1, 'Catherine Zeta-Jones', 'The Terminal')\n",
      "(1, 'John Williams', 'Indiana Jones and the Temple of Doom')\n",
      "(1, 'Dani Rovira', 'Ocho Apellidos Vascos')\n",
      "(1, 'Clara Lago', 'Ocho Apellidos Vascos')\n",
      "(1, 'Carmen Machi', 'Ocho Apellidos Vascos')\n",
      "(1, 'Karra Elejalde', 'Ocho Apellidos Vascos')\n",
      "(1, 'Dani Rovira', 'Ocho Apellidos Catalanes')\n",
      "(1, 'Clara Lago', 'Ocho Apellidos Catalanes')\n",
      "(1, 'Carmen Machi', 'Ocho Apellidos Catalanes')\n",
      "(1, 'Karra Elejalde', 'Ocho Apellidos Catalanes')\n",
      "(1, 'Quim Gutierrez', 'La Gran Familia Española')\n",
      "(1, 'Robert Alamo', 'La Gran Familia Española')\n",
      "(1, 'Hector Colome', 'La Gran Familia Española')\n",
      "(1, 'Veronica Echegui', 'La Gran Familia Española')\n",
      "(1, 'Patrick Criado', 'La Gran Familia Española')\n",
      "(1, 'Morgan Freeman', 'The Shawshank Redemption')\n",
      "(1, 'Tim Robbins', 'The Shawshank Redemption')\n",
      "(1, 'George Lucas', 'Star Wars:Episode IV - A New Hope')\n",
      "(1, 'Steven Spielberg', 'Indiana Jones and the Temple of Doom')\n",
      "(1, 'Steven Spielberg', 'Jaws')\n",
      "(1, 'Steven Spielberg', 'ET The Extraterrestrial')\n",
      "(1, 'Anthony Perkins', 'Psycho')\n",
      "(1, 'Vera Miles', 'Psycho')\n",
      "(1, 'Emilio Martinez Lazaro', 'Ocho Apellidos Vascos')\n",
      "(1, 'Emilio Martinez Lazaro', 'Ocho Apellidos Catalanes')\n",
      "(1, 'Emilio Martinez Lazaro', 'El otro lado de la cama')\n",
      "(1, 'Gary Kurtz', 'Star Wars:Episode IV - A New Hope')\n",
      "(2, 'George Lucas', 'Indiana Jones and the Temple of Doom')\n",
      "(2, 'Daniel Sanchez Arevalo', 'La Gran Familia Española')\n",
      "(2, 'Steven Spielberg', 'The Terminal')\n",
      "(2, 'Mel Gibson', 'Braveheart')\n",
      "(3, 'Alfred Joseph Hitchcock', 'Psycho')\n",
      "(3, 'Francis Ford Coppola', 'Apocalypse Now')\n"
     ]
    }
   ],
   "source": [
    "# Exercise 4.1\n",
    "# Statement definition\n",
    "sql =  \"SELECT COUNT(tb_role.role_id) AS role_count, tb_person.person_name, tb_movie.movie_title \\\n",
    "        FROM (((tb_movie_person \\\n",
    "        INNER JOIN tb_role ON tb_role.role_id = tb_movie_person.role_id) \\\n",
    "        INNER JOIN tb_person ON tb_person.person_id = tb_movie_person.person_id) \\\n",
    "        INNER JOIN tb_movie ON tb_movie.movie_id = tb_movie_person.movie_id) \\\n",
    "        GROUP BY movie_title, person_name \\\n",
    "        ORDER BY role_count;\"\n",
    "\n",
    "# Call to function to execute statement and show results\n",
    "sql_function(sql, False)"
   ]
  },
  {
   "cell_type": "markdown",
   "id": "ebc36bf5",
   "metadata": {},
   "source": [
    "### Section 2\n",
    "\n",
    "Show those people who have assumed more than one role in the same film."
   ]
  },
  {
   "cell_type": "code",
   "execution_count": 12,
   "id": "fc8dd8f8",
   "metadata": {
    "ExecuteTime": {
     "end_time": "2022-07-28T05:51:08.006370Z",
     "start_time": "2022-07-28T05:51:07.994403Z"
    }
   },
   "outputs": [
    {
     "name": "stdout",
     "output_type": "stream",
     "text": [
      "(3, 'Alfred Joseph Hitchcock', 'Psycho')\n",
      "(3, 'Francis Ford Coppola', 'Apocalypse Now')\n",
      "(2, 'George Lucas', 'Indiana Jones and the Temple of Doom')\n",
      "(2, 'Mel Gibson', 'Braveheart')\n",
      "(2, 'Steven Spielberg', 'The Terminal')\n",
      "(2, 'Daniel Sanchez Arevalo', 'La Gran Familia Española')\n"
     ]
    }
   ],
   "source": [
    "# Exercise 4.2\n",
    "# Statement definition\n",
    "sql =  \"SELECT COUNT(tb_role.role_id) AS role_count, tb_person.person_name, tb_movie.movie_title \\\n",
    "        FROM (((tb_movie_person \\\n",
    "        INNER JOIN tb_role ON tb_role.role_id = tb_movie_person.role_id) \\\n",
    "        INNER JOIN tb_person ON tb_person.person_id = tb_movie_person.person_id) \\\n",
    "        INNER JOIN tb_movie ON tb_movie.movie_id = tb_movie_person.movie_id) \\\n",
    "        GROUP BY movie_title, person_name \\\n",
    "        HAVING role_count > 1 \\\n",
    "        ORDER BY role_count DESC;\"\n",
    "\n",
    "# Call to function to execute statement and show results\n",
    "sql_function(sql, False)"
   ]
  },
  {
   "cell_type": "markdown",
   "id": "417a30ab",
   "metadata": {},
   "source": [
    "## Execise #5\n",
    "\n",
    "**Perform queries**\n",
    "\n",
    "You must create a new genre called \"Documental\" which has the number 69 as its identifier."
   ]
  },
  {
   "cell_type": "code",
   "execution_count": 13,
   "id": "3897dd92",
   "metadata": {
    "ExecuteTime": {
     "end_time": "2022-07-28T05:51:10.431187Z",
     "start_time": "2022-07-28T05:51:10.407258Z"
    }
   },
   "outputs": [],
   "source": [
    "# Exercise 5\n",
    "# Statement definition\n",
    "sql = \"INSERT INTO tb_genre (genre_id, genre_name) VALUES (69, 'Documental');\"\n",
    "\n",
    "# Call to function to execute statement and show results\n",
    "sql_function(sql, True)"
   ]
  },
  {
   "cell_type": "code",
   "execution_count": 14,
   "id": "fc97888c",
   "metadata": {
    "ExecuteTime": {
     "end_time": "2022-07-28T05:51:14.790533Z",
     "start_time": "2022-07-28T05:51:14.781556Z"
    }
   },
   "outputs": [
    {
     "name": "stdout",
     "output_type": "stream",
     "text": [
      "(1, 'Acción', 'OS_SGAD', None, None)\n",
      "(2, 'Ciencia Ficción', 'OS_SGAD', None, None)\n",
      "(3, 'Comedia', 'OS_SGAD', None, None)\n",
      "(4, 'Drama', 'OS_SGAD', None, None)\n",
      "(5, 'Fantasía', 'apermag', None, None)\n",
      "(6, 'Melodrama', 'apermag', datetime.date(2018, 9, 1), datetime.date(2018, 9, 27))\n",
      "(7, 'Musical', 'OS_SGAD', None, None)\n",
      "(8, 'Romance', 'OS_SGAD', None, None)\n",
      "(9, 'Suspense', 'OS_SGAD', None, None)\n",
      "(10, 'Terror', 'OS_SGAD', None, None)\n",
      "(11, 'Bélico', 'OS_SGAD', None, None)\n",
      "(69, 'Documental', 'OS_SGAD', None, None)\n"
     ]
    }
   ],
   "source": [
    "# EXERCICI 5 (CONT)\n",
    "# Statement definition\n",
    "sql = \"SELECT * FROM tb_genre;\"\n",
    "\n",
    "# Call to function to execute statement and show results\n",
    "sql_function(sql, False)"
   ]
  },
  {
   "cell_type": "markdown",
   "id": "dbc9545c",
   "metadata": {},
   "source": [
    "## Execise #6\n",
    "\n",
    "**Perform queries**\n",
    "\n",
    "Remove the movie \"La Gran Familia Española\" from the database.\n",
    "\n",
    "In this exercise, due to the the Referential Integrity is not possible to remove only the row with \"La Gran Familia Española\" movie. First we have to modify the constrain in order to add \"ON DELETE CASCADE\". With this new SQL statement, on deleting the movie it will delete other table rows in order to maintain the Referential Integrity on database. "
   ]
  },
  {
   "cell_type": "code",
   "execution_count": 15,
   "id": "c2dffc0e",
   "metadata": {
    "ExecuteTime": {
     "end_time": "2022-07-28T05:51:35.015053Z",
     "start_time": "2022-07-28T05:51:34.990025Z"
    }
   },
   "outputs": [],
   "source": [
    "# Exercise 6\n",
    "# Statement definition\n",
    "sql = \"ALTER TABLE tb_movie_person DROP CONSTRAINT fk_movper_movie; \\\n",
    "       ALTER TABLE tb_movie_person \\\n",
    "       ADD CONSTRAINT fk_movper_movie FOREIGN KEY (movie_id) REFERENCES movies.tb_movie (movie_id) ON DELETE CASCADE;\"\n",
    "\n",
    "# Call to function to execute statement and show results\n",
    "sql_function(sql, False)"
   ]
  },
  {
   "cell_type": "code",
   "execution_count": 16,
   "id": "a5a7fc39",
   "metadata": {
    "ExecuteTime": {
     "end_time": "2022-07-28T05:51:36.222316Z",
     "start_time": "2022-07-28T05:51:36.196218Z"
    }
   },
   "outputs": [],
   "source": [
    "# Exercise 6 (CONT-1)\n",
    "# Statement definition\n",
    "sql = \"DELETE FROM tb_movie WHERE movie_title = 'La Gran Familia Española';\"\n",
    "\n",
    "# Call to function to execute statement and show results\n",
    "sql_function(sql, True)"
   ]
  },
  {
   "cell_type": "code",
   "execution_count": 17,
   "id": "965b9ebd",
   "metadata": {
    "ExecuteTime": {
     "end_time": "2022-07-28T05:51:37.940932Z",
     "start_time": "2022-07-28T05:51:37.928004Z"
    }
   },
   "outputs": [
    {
     "name": "stdout",
     "output_type": "stream",
     "text": [
      "(1, 'Apocalypse Now', datetime.date(1979, 5, 10), 'Film', 11, 'OS_SGAD', None, None)\n",
      "(2, 'Star Wars:Episode IV - A New Hope', datetime.date(1977, 5, 25), 'Film', 2, 'OS_SGAD', None, None)\n",
      "(3, 'Indiana Jones and the Temple of Doom', datetime.date(1984, 5, 8), 'Film', 1, 'OS_SGAD', None, None)\n",
      "(4, 'The Terminal', datetime.date(2004, 6, 18), 'Digital', 3, 'OS_SGAD', None, None)\n",
      "(5, 'Jaws', datetime.date(1975, 1, 1), 'Film', 10, 'OS_SGAD', None, None)\n",
      "(6, 'ET The Extraterrestrial', datetime.date(1982, 7, 25), 'Film', 5, 'OS_SGAD', None, None)\n",
      "(7, 'Psycho', datetime.date(1960, 5, 6), 'Film', 9, 'OS_SGAD', None, None)\n",
      "(8, 'Ocho Apellidos Vascos', datetime.date(2014, 3, 14), 'Digital', 3, 'OS_SGAD', None, None)\n",
      "(9, 'Ocho Apellidos Catalanes', datetime.date(2016, 6, 9), 'Digital', 8, 'OS_SGAD', None, None)\n",
      "(10, 'El otro lado de la cama', datetime.date(2002, 9, 4), 'Digital', 8, 'OS_SGAD', None, None)\n",
      "(12, 'El dia de la bestia', datetime.date(1994, 12, 25), 'Film', 1, 'OS_SGAD', None, None)\n",
      "(13, 'Braveheart', datetime.date(1995, 8, 8), 'Film', 4, 'OS_SGAD', None, None)\n",
      "(14, 'The Shawshank Redemption', datetime.date(1992, 1, 7), 'Film', 4, 'OS_SGAD', None, None)\n",
      "(15, 'Las brujas de Zugarramurdi', datetime.date(2009, 10, 7), 'Digital', 9, 'OS_SGAD', None, None)\n",
      "(16, 'Blade Runner', datetime.date(1982, 12, 25), 'Digital', 2, 'OS_SGAD', None, None)\n"
     ]
    }
   ],
   "source": [
    "# Exercise 6 (CONT-2)\n",
    "# Statement definition\n",
    "sql = \"SELECT * FROM tb_movie;\"\n",
    "\n",
    "# Call to function to execute statement and show results\n",
    "sql_function(sql, False)"
   ]
  },
  {
   "cell_type": "markdown",
   "id": "596ebae8",
   "metadata": {},
   "source": [
    "## Execise #7\n",
    "\n",
    "**Perform queries**\n",
    "\n",
    "Change the genre of the film \"Ocho apellidos catalanes\" so that it is recorded as a comedy and not as a romance."
   ]
  },
  {
   "cell_type": "code",
   "execution_count": 18,
   "id": "99c33952",
   "metadata": {
    "ExecuteTime": {
     "end_time": "2022-07-28T05:51:56.710350Z",
     "start_time": "2022-07-28T05:51:56.689456Z"
    }
   },
   "outputs": [],
   "source": [
    "# Exercise 7\n",
    "# Statement definition\n",
    "sql = \"UPDATE tb_movie \\\n",
    "       SET movie_genre_id = 3 \\\n",
    "       WHERE movie_title = 'Ocho Apellidos Catalanes';\"\n",
    "\n",
    "# Call to function to execute statement and show results\n",
    "sql_function(sql, True)"
   ]
  },
  {
   "cell_type": "code",
   "execution_count": 19,
   "id": "56d2c1a9",
   "metadata": {
    "ExecuteTime": {
     "end_time": "2022-07-28T05:51:58.284193Z",
     "start_time": "2022-07-28T05:51:58.265214Z"
    }
   },
   "outputs": [
    {
     "name": "stdout",
     "output_type": "stream",
     "text": [
      "('Ocho Apellidos Catalanes', 3)\n"
     ]
    }
   ],
   "source": [
    "# Exercise 7 (CONT)\n",
    "# Statement definition\n",
    "sql = \"SELECT movie_title, movie_genre_id FROM tb_movie \\\n",
    "       WHERE movie_title = 'Ocho Apellidos Catalanes';\"\n",
    "\n",
    "# Call to function to execute statement and show results\n",
    "sql_function(sql, False)"
   ]
  }
 ],
 "metadata": {
  "kernelspec": {
   "display_name": "Python 3 (ipykernel)",
   "language": "python",
   "name": "python3"
  },
  "language_info": {
   "codemirror_mode": {
    "name": "ipython",
    "version": 3
   },
   "file_extension": ".py",
   "mimetype": "text/x-python",
   "name": "python",
   "nbconvert_exporter": "python",
   "pygments_lexer": "ipython3",
   "version": "3.9.12"
  },
  "latex_envs": {
   "LaTeX_envs_menu_present": true,
   "autoclose": false,
   "autocomplete": true,
   "bibliofile": "biblio.bib",
   "cite_by": "apalike",
   "current_citInitial": 1,
   "eqLabelWithNumbers": true,
   "eqNumInitial": 1,
   "hotkeys": {
    "equation": "Ctrl-E",
    "itemize": "Ctrl-I"
   },
   "labels_anchors": false,
   "latex_user_defs": false,
   "report_style_numbering": false,
   "user_envs_cfg": false
  },
  "nbTranslate": {
   "displayLangs": [
    "*"
   ],
   "hotkey": "alt-t",
   "langInMainMenu": true,
   "sourceLang": "en",
   "targetLang": "fr",
   "useGoogleTranslate": true
  },
  "toc": {
   "base_numbering": 1,
   "nav_menu": {},
   "number_sections": true,
   "sideBar": true,
   "skip_h1_title": true,
   "title_cell": "Table of Contents",
   "title_sidebar": "Contents",
   "toc_cell": false,
   "toc_position": {
    "height": "calc(100% - 180px)",
    "left": "10px",
    "top": "150px",
    "width": "426.667px"
   },
   "toc_section_display": true,
   "toc_window_display": true
  },
  "varInspector": {
   "cols": {
    "lenName": 16,
    "lenType": 16,
    "lenVar": 40
   },
   "kernels_config": {
    "python": {
     "delete_cmd_postfix": "",
     "delete_cmd_prefix": "del ",
     "library": "var_list.py",
     "varRefreshCmd": "print(var_dic_list())"
    },
    "r": {
     "delete_cmd_postfix": ") ",
     "delete_cmd_prefix": "rm(",
     "library": "var_list.r",
     "varRefreshCmd": "cat(var_dic_list()) "
    }
   },
   "types_to_exclude": [
    "module",
    "function",
    "builtin_function_or_method",
    "instance",
    "_Feature"
   ],
   "window_display": false
  }
 },
 "nbformat": 4,
 "nbformat_minor": 5
}
